{
  "nbformat": 4,
  "nbformat_minor": 0,
  "metadata": {
    "colab": {
      "name": "ml_0730_blessonpaul.ipynb",
      "version": "0.3.2",
      "provenance": [],
      "collapsed_sections": [],
      "include_colab_link": true
    },
    "kernelspec": {
      "name": "python3",
      "display_name": "Python 3"
    }
  },
  "cells": [
    {
      "cell_type": "markdown",
      "metadata": {
        "id": "view-in-github",
        "colab_type": "text"
      },
      "source": [
        "<a href=\"https://colab.research.google.com/github/blessonpaul/machinelearning/blob/master/ml_0730_blessonpaul.ipynb\" target=\"_parent\"><img src=\"https://colab.research.google.com/assets/colab-badge.svg\" alt=\"Open In Colab\"/></a>"
      ]
    },
    {
      "cell_type": "code",
      "metadata": {
        "id": "SGlDBO1cmkFU",
        "colab_type": "code",
        "outputId": "2c25ddb2-852e-45ff-8485-d511a7f723cd",
        "colab": {
          "base_uri": "https://localhost:8080/",
          "height": 102
        }
      },
      "source": [
        "import numpy as np\n",
        "import matplotlib.pyplot as plt\n",
        "import pandas as pd\n",
        "\n",
        "\n",
        "# Importing the dataset\n",
        "dataset = pd.read_csv('https://raw.githubusercontent.com/blessonpaul/machinelearning/master/wine-new.csv')\n",
        "X = dataset.iloc[:, [0, 1]].values\n",
        "y = dataset.iloc[:, 2].values\n",
        "\n",
        "# Splitting the dataset into the Training set and Test set\n",
        "#from sklearn.cross_validation import train_test_split\n",
        "from sklearn.model_selection import train_test_split\n",
        "X_train, X_test, y_train, y_test = train_test_split(X, y, test_size = 0.20, random_state = 0)\n",
        "\n",
        "# Feature Scaling\n",
        "from sklearn.preprocessing import StandardScaler\n",
        "sc = StandardScaler()\n",
        "X_train = sc.fit_transform(X_train)\n",
        "X_test = sc.transform(X_test)\n",
        "\n",
        "#-----------------------------------------------------------\n",
        "# Documentation for sklearn.neighbors.KNeighborsClassifier:\n",
        "# https://scikit-learn.org/stable/modules/generated/sklearn.neighbors.KNeighborsClassifier.html\n",
        "# n_neighbors = # of neighbors \n",
        "# metric      = distance metric \n",
        "# p           = parameter for the Minkowski metric: \n",
        "# if p = 1:     use the manhattan_distance \n",
        "# if p = 2:     use the euclidean_distance \n",
        "#-----------------------------------------------------------\n",
        "\n",
        "# ====> INSERT YOUR CLASSIFIER CODE HERE <====\n",
        "# Fitting classifier to the Training set\n",
        "# Create your classifier here\n",
        "from sklearn.tree import DecisionTreeClassifier\n",
        "classifier = DecisionTreeClassifier(criterion='entropy', random_state = 0)\n",
        "classifier.fit(X_train, y_train) \n",
        "# ====> INSERT YOUR CLASSIFIER CODE HERE <====\n",
        "\n",
        "# Predicting the Test set results\n",
        "y_pred = classifier.predict(X_test)\n",
        "\n",
        "# Making the Confusion Matrix\n",
        "from sklearn.metrics import confusion_matrix\n",
        "cm = confusion_matrix(y_test, y_pred)\n",
        "print(\"confusion matrix:\")\n",
        "print(cm)\n",
        "\n",
        "from sklearn.metrics import accuracy_score\n",
        "print(accuracy_score(y_test, y_pred))\n"
      ],
      "execution_count": 0,
      "outputs": [
        {
          "output_type": "stream",
          "text": [
            "confusion matrix:\n",
            "[[11  1  2]\n",
            " [ 0 13  3]\n",
            " [ 0  1  5]]\n",
            "0.8055555555555556\n"
          ],
          "name": "stdout"
        }
      ]
    },
    {
      "cell_type": "code",
      "metadata": {
        "id": "Aic1ZiRAoxO3",
        "colab_type": "code",
        "outputId": "223d2a95-d5ef-49f4-95e8-502b54626f15",
        "colab": {
          "base_uri": "https://localhost:8080/",
          "height": 102
        }
      },
      "source": [
        "import numpy as np\n",
        "import matplotlib.pyplot as plt\n",
        "import pandas as pd\n",
        "\n",
        "\n",
        "# Importing the dataset\n",
        "dataset = pd.read_csv('https://raw.githubusercontent.com/blessonpaul/machinelearning/master/wine-new.csv')\n",
        "X = dataset.iloc[:, [0, 1]].values\n",
        "y = dataset.iloc[:, 2].values\n",
        "\n",
        "# Splitting the dataset into the Training set and Test set\n",
        "#from sklearn.cross_validation import train_test_split\n",
        "from sklearn.model_selection import train_test_split\n",
        "X_train, X_test, y_train, y_test = train_test_split(X, y, test_size = 0.20, random_state = 0)\n",
        "\n",
        "# Feature Scaling\n",
        "from sklearn.preprocessing import StandardScaler\n",
        "sc = StandardScaler()\n",
        "X_train = sc.fit_transform(X_train)\n",
        "X_test = sc.transform(X_test)\n",
        "\n",
        "#-----------------------------------------------------------\n",
        "# Documentation for sklearn.neighbors.KNeighborsClassifier:\n",
        "# https://scikit-learn.org/stable/modules/generated/sklearn.neighbors.KNeighborsClassifier.html\n",
        "# n_neighbors = # of neighbors \n",
        "# metric      = distance metric \n",
        "# p           = parameter for the Minkowski metric: \n",
        "# if p = 1:     use the manhattan_distance \n",
        "# if p = 2:     use the euclidean_distance \n",
        "#-----------------------------------------------------------\n",
        "\n",
        "# ====> INSERT YOUR CLASSIFIER CODE HERE <====\n",
        "# Fitting classifier to the Training set\n",
        "# Create your classifier here\n",
        "from sklearn.ensemble import RandomForestClassifier\n",
        "classifier = RandomForestClassifier(n_estimators = 3, criterion='entropy', random_state = 0)\n",
        "classifier.fit(X_train, y_train)\n",
        "# ====> INSERT YOUR CLASSIFIER CODE HERE <====\n",
        "\n",
        "# Predicting the Test set results\n",
        "y_pred = classifier.predict(X_test)\n",
        "\n",
        "# Making the Confusion Matrix\n",
        "from sklearn.metrics import confusion_matrix\n",
        "cm = confusion_matrix(y_test, y_pred)\n",
        "print(\"confusion matrix:\")\n",
        "print(cm)\n",
        "\n",
        "from sklearn.metrics import accuracy_score\n",
        "print(accuracy_score(y_test, y_pred))\n"
      ],
      "execution_count": 0,
      "outputs": [
        {
          "output_type": "stream",
          "text": [
            "confusion matrix:\n",
            "[[11  1  2]\n",
            " [ 0 13  3]\n",
            " [ 1  1  4]]\n",
            "0.7777777777777778\n"
          ],
          "name": "stdout"
        }
      ]
    },
    {
      "cell_type": "code",
      "metadata": {
        "id": "b0pDojcmpYoQ",
        "colab_type": "code",
        "outputId": "7048f7ea-6ddf-4b40-c611-5b0b88d07783",
        "colab": {
          "base_uri": "https://localhost:8080/",
          "height": 102
        }
      },
      "source": [
        "import numpy as np\n",
        "import matplotlib.pyplot as plt\n",
        "import pandas as pd\n",
        "\n",
        "\n",
        "# Importing the dataset\n",
        "dataset = pd.read_csv('https://raw.githubusercontent.com/blessonpaul/machinelearning/master/wine-new.csv')\n",
        "X = dataset.iloc[:, [0, 1]].values\n",
        "y = dataset.iloc[:, 2].values\n",
        "\n",
        "# Splitting the dataset into the Training set and Test set\n",
        "#from sklearn.cross_validation import train_test_split\n",
        "from sklearn.model_selection import train_test_split\n",
        "X_train, X_test, y_train, y_test = train_test_split(X, y, test_size = 0.20, random_state = 0)\n",
        "\n",
        "# Feature Scaling\n",
        "from sklearn.preprocessing import StandardScaler\n",
        "sc = StandardScaler()\n",
        "X_train = sc.fit_transform(X_train)\n",
        "X_test = sc.transform(X_test)\n",
        "\n",
        "#-----------------------------------------------------------\n",
        "# Documentation for sklearn.neighbors.KNeighborsClassifier:\n",
        "# https://scikit-learn.org/stable/modules/generated/sklearn.neighbors.KNeighborsClassifier.html\n",
        "# n_neighbors = # of neighbors \n",
        "# metric      = distance metric \n",
        "# p           = parameter for the Minkowski metric: \n",
        "# if p = 1:     use the manhattan_distance \n",
        "# if p = 2:     use the euclidean_distance \n",
        "#-----------------------------------------------------------\n",
        "\n",
        "# ====> INSERT YOUR CLASSIFIER CODE HERE <====\n",
        "# Fitting classifier to the Training set\n",
        "# Create your classifier here\n",
        "from sklearn.ensemble import RandomForestClassifier\n",
        "classifier = RandomForestClassifier(n_estimators = 10, criterion='entropy', random_state = 0)\n",
        "classifier.fit(X_train, y_train)\n",
        "# ====> INSERT YOUR CLASSIFIER CODE HERE <====\n",
        "\n",
        "# Predicting the Test set results\n",
        "y_pred = classifier.predict(X_test)\n",
        "\n",
        "# Making the Confusion Matrix\n",
        "from sklearn.metrics import confusion_matrix\n",
        "cm = confusion_matrix(y_test, y_pred)\n",
        "print(\"confusion matrix:\")\n",
        "print(cm)\n",
        "\n",
        "from sklearn.metrics import accuracy_score\n",
        "print(accuracy_score(y_test, y_pred))"
      ],
      "execution_count": 0,
      "outputs": [
        {
          "output_type": "stream",
          "text": [
            "confusion matrix:\n",
            "[[13  0  1]\n",
            " [ 0 15  1]\n",
            " [ 0  1  5]]\n",
            "0.9166666666666666\n"
          ],
          "name": "stdout"
        }
      ]
    },
    {
      "cell_type": "code",
      "metadata": {
        "id": "cl1lW6COpdQN",
        "colab_type": "code",
        "outputId": "a40dd18b-d636-45a2-d67e-bfa9b069e7fa",
        "colab": {
          "base_uri": "https://localhost:8080/",
          "height": 102
        }
      },
      "source": [
        "import numpy as np\n",
        "import matplotlib.pyplot as plt\n",
        "import pandas as pd\n",
        "\n",
        "\n",
        "# Importing the dataset\n",
        "dataset = pd.read_csv('https://raw.githubusercontent.com/blessonpaul/machinelearning/master/wine-new.csv')\n",
        "X = dataset.iloc[:, [0, 1]].values\n",
        "y = dataset.iloc[:, 2].values\n",
        "\n",
        "# Splitting the dataset into the Training set and Test set\n",
        "#from sklearn.cross_validation import train_test_split\n",
        "from sklearn.model_selection import train_test_split\n",
        "X_train, X_test, y_train, y_test = train_test_split(X, y, test_size = 0.20, random_state = 0)\n",
        "\n",
        "# Feature Scaling\n",
        "from sklearn.preprocessing import StandardScaler\n",
        "sc = StandardScaler()\n",
        "X_train = sc.fit_transform(X_train)\n",
        "X_test = sc.transform(X_test)\n",
        "\n",
        "#-----------------------------------------------------------\n",
        "# Documentation for sklearn.neighbors.KNeighborsClassifier:\n",
        "# https://scikit-learn.org/stable/modules/generated/sklearn.neighbors.KNeighborsClassifier.html\n",
        "# n_neighbors = # of neighbors \n",
        "# metric      = distance metric \n",
        "# p           = parameter for the Minkowski metric: \n",
        "# if p = 1:     use the manhattan_distance \n",
        "# if p = 2:     use the euclidean_distance \n",
        "#-----------------------------------------------------------\n",
        "\n",
        "# ====> INSERT YOUR CLASSIFIER CODE HERE <====\n",
        "# Fitting classifier to the Training set\n",
        "# Create your classifier here\n",
        "from sklearn.ensemble import RandomForestClassifier\n",
        "classifier = RandomForestClassifier(n_estimators = 20, criterion='entropy', random_state = 0)\n",
        "classifier.fit(X_train, y_train)\n",
        "# ====> INSERT YOUR CLASSIFIER CODE HERE <====\n",
        "\n",
        "# Predicting the Test set results\n",
        "y_pred = classifier.predict(X_test)\n",
        "\n",
        "# Making the Confusion Matrix\n",
        "from sklearn.metrics import confusion_matrix\n",
        "cm = confusion_matrix(y_test, y_pred)\n",
        "print(\"confusion matrix:\")\n",
        "print(cm)\n",
        "\n",
        "from sklearn.metrics import accuracy_score\n",
        "print(accuracy_score(y_test, y_pred))"
      ],
      "execution_count": 0,
      "outputs": [
        {
          "output_type": "stream",
          "text": [
            "confusion matrix:\n",
            "[[13  0  1]\n",
            " [ 0 15  1]\n",
            " [ 0  1  5]]\n",
            "0.9166666666666666\n"
          ],
          "name": "stdout"
        }
      ]
    }
  ]
}