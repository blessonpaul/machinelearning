{
  "nbformat": 4,
  "nbformat_minor": 0,
  "metadata": {
    "colab": {
      "name": "Untitled3.ipynb",
      "version": "0.3.2",
      "provenance": [],
      "collapsed_sections": [],
      "include_colab_link": true
    },
    "kernelspec": {
      "name": "python3",
      "display_name": "Python 3"
    }
  },
  "cells": [
    {
      "cell_type": "markdown",
      "metadata": {
        "id": "view-in-github",
        "colab_type": "text"
      },
      "source": [
        "<a href=\"https://colab.research.google.com/github/blessonpaul/machinelearning/blob/master/numpy.ipynb\" target=\"_parent\"><img src=\"https://colab.research.google.com/assets/colab-badge.svg\" alt=\"Open In Colab\"/></a>"
      ]
    },
    {
      "cell_type": "code",
      "metadata": {
        "id": "uES0nMwQK1J_",
        "colab_type": "code",
        "outputId": "9f5b03d4-4f28-4ebd-b962-9c0b8b6a1a4b",
        "colab": {
          "base_uri": "https://localhost:8080/",
          "height": 289
        }
      },
      "source": [
        "import numpy as np # array-vector.py\n",
        "\n",
        "a = np.array([[1,2], [3, 4]])\n",
        "b = np.array([[5,6], [7,8]])\n",
        "print('a:      ', a)\n",
        "print('b:      ', b)\n",
        "print('a + b:  ', a+b)\n",
        "print('a - b:  ', a-b)\n",
        "print('a * b:  ', a*b)\n",
        "print('a / b:  ', a/b)\n",
        "print('b / a:  ', b/a)\n",
        "print('a.dot(b):',a.dot(b))"
      ],
      "execution_count": 0,
      "outputs": [
        {
          "output_type": "stream",
          "text": [
            "a:       [[1 2]\n",
            " [3 4]]\n",
            "b:       [[5 6]\n",
            " [7 8]]\n",
            "a + b:   [[ 6  8]\n",
            " [10 12]]\n",
            "a - b:   [[-4 -4]\n",
            " [-4 -4]]\n",
            "a * b:   [[ 5 12]\n",
            " [21 32]]\n",
            "a / b:   [[0.2        0.33333333]\n",
            " [0.42857143 0.5       ]]\n",
            "b / a:   [[5.         3.        ]\n",
            " [2.33333333 2.        ]]\n",
            "a.dot(b): [[19 22]\n",
            " [43 50]]\n"
          ],
          "name": "stdout"
        }
      ]
    }
  ]
}